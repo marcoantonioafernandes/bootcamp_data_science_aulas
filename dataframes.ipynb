{
  "nbformat": 4,
  "nbformat_minor": 0,
  "metadata": {
    "colab": {
      "name": "dataframes.ipynb",
      "provenance": [],
      "toc_visible": true,
      "authorship_tag": "ABX9TyPtxHapkdDeE0LGSiNO/+s/",
      "include_colab_link": true
    },
    "kernelspec": {
      "name": "python3",
      "display_name": "Python 3"
    },
    "language_info": {
      "name": "python"
    }
  },
  "cells": [
    {
      "cell_type": "markdown",
      "metadata": {
        "id": "view-in-github",
        "colab_type": "text"
      },
      "source": [
        "<a href=\"https://colab.research.google.com/github/marcoantonioafernandes/bootcamp_data_science_aulas/blob/main/dataframes.ipynb\" target=\"_parent\"><img src=\"https://colab.research.google.com/assets/colab-badge.svg\" alt=\"Open In Colab\"/></a>"
      ]
    },
    {
      "cell_type": "markdown",
      "metadata": {
        "id": "QzbWB39sYbxp"
      },
      "source": [
        "#Estilizando dataframes"
      ]
    },
    {
      "cell_type": "code",
      "metadata": {
        "id": "ToLX9rMJYJAt"
      },
      "source": [
        "import pandas as pd"
      ],
      "execution_count": 1,
      "outputs": []
    },
    {
      "cell_type": "code",
      "metadata": {
        "id": "0pgsto7VYQC5"
      },
      "source": [
        "carros = {'Marca': ['Honda Civic','Toyota Corolla','Ford Focus','Audi A4'],\n",
        "        'Preco': [22000,25000,27000,35000]\n",
        "        }"
      ],
      "execution_count": 2,
      "outputs": []
    },
    {
      "cell_type": "code",
      "metadata": {
        "colab": {
          "base_uri": "https://localhost:8080/",
          "height": 168
        },
        "id": "WZpl8HucYQgn",
        "outputId": "1e118687-b836-468e-8a4f-98d3d5c9578b"
      },
      "source": [
        "dados = pd.DataFrame(carros)\n",
        "dados.head()"
      ],
      "execution_count": 4,
      "outputs": [
        {
          "output_type": "execute_result",
          "data": {
            "text/html": [
              "<div>\n",
              "<style scoped>\n",
              "    .dataframe tbody tr th:only-of-type {\n",
              "        vertical-align: middle;\n",
              "    }\n",
              "\n",
              "    .dataframe tbody tr th {\n",
              "        vertical-align: top;\n",
              "    }\n",
              "\n",
              "    .dataframe thead th {\n",
              "        text-align: right;\n",
              "    }\n",
              "</style>\n",
              "<table border=\"1\" class=\"dataframe\">\n",
              "  <thead>\n",
              "    <tr style=\"text-align: right;\">\n",
              "      <th></th>\n",
              "      <th>Marca</th>\n",
              "      <th>Preco</th>\n",
              "    </tr>\n",
              "  </thead>\n",
              "  <tbody>\n",
              "    <tr>\n",
              "      <th>0</th>\n",
              "      <td>Honda Civic</td>\n",
              "      <td>22000</td>\n",
              "    </tr>\n",
              "    <tr>\n",
              "      <th>1</th>\n",
              "      <td>Toyota Corolla</td>\n",
              "      <td>25000</td>\n",
              "    </tr>\n",
              "    <tr>\n",
              "      <th>2</th>\n",
              "      <td>Ford Focus</td>\n",
              "      <td>27000</td>\n",
              "    </tr>\n",
              "    <tr>\n",
              "      <th>3</th>\n",
              "      <td>Audi A4</td>\n",
              "      <td>35000</td>\n",
              "    </tr>\n",
              "  </tbody>\n",
              "</table>\n",
              "</div>"
            ],
            "text/plain": [
              "            Marca  Preco\n",
              "0     Honda Civic  22000\n",
              "1  Toyota Corolla  25000\n",
              "2      Ford Focus  27000\n",
              "3         Audi A4  35000"
            ]
          },
          "metadata": {
            "tags": []
          },
          "execution_count": 4
        }
      ]
    },
    {
      "cell_type": "markdown",
      "metadata": {
        "id": "gJbrFlPKYhnT"
      },
      "source": [
        "Passando o parâmetro abaixo conseguimos passar propriedades css para o dataframe"
      ]
    },
    {
      "cell_type": "code",
      "metadata": {
        "colab": {
          "base_uri": "https://localhost:8080/",
          "height": 124
        },
        "id": "VbntKXD_YZ8z",
        "outputId": "ccb6d9fc-36e9-4057-ce66-453c6849cd70"
      },
      "source": [
        "dados.style.set_properties(**{\n",
        "    'background-color':'blue',\n",
        "    'color':'white'\n",
        "})"
      ],
      "execution_count": 5,
      "outputs": [
        {
          "output_type": "execute_result",
          "data": {
            "text/html": [
              "<style  type=\"text/css\" >\n",
              "#T_9d2f7fee_a311_11eb_b0d4_0242ac1c0002row0_col0,#T_9d2f7fee_a311_11eb_b0d4_0242ac1c0002row0_col1,#T_9d2f7fee_a311_11eb_b0d4_0242ac1c0002row1_col0,#T_9d2f7fee_a311_11eb_b0d4_0242ac1c0002row1_col1,#T_9d2f7fee_a311_11eb_b0d4_0242ac1c0002row2_col0,#T_9d2f7fee_a311_11eb_b0d4_0242ac1c0002row2_col1,#T_9d2f7fee_a311_11eb_b0d4_0242ac1c0002row3_col0,#T_9d2f7fee_a311_11eb_b0d4_0242ac1c0002row3_col1{\n",
              "            background-color:  blue;\n",
              "            color:  white;\n",
              "        }</style><table id=\"T_9d2f7fee_a311_11eb_b0d4_0242ac1c0002\" ><thead>    <tr>        <th class=\"blank level0\" ></th>        <th class=\"col_heading level0 col0\" >Marca</th>        <th class=\"col_heading level0 col1\" >Preco</th>    </tr></thead><tbody>\n",
              "                <tr>\n",
              "                        <th id=\"T_9d2f7fee_a311_11eb_b0d4_0242ac1c0002level0_row0\" class=\"row_heading level0 row0\" >0</th>\n",
              "                        <td id=\"T_9d2f7fee_a311_11eb_b0d4_0242ac1c0002row0_col0\" class=\"data row0 col0\" >Honda Civic</td>\n",
              "                        <td id=\"T_9d2f7fee_a311_11eb_b0d4_0242ac1c0002row0_col1\" class=\"data row0 col1\" >22000</td>\n",
              "            </tr>\n",
              "            <tr>\n",
              "                        <th id=\"T_9d2f7fee_a311_11eb_b0d4_0242ac1c0002level0_row1\" class=\"row_heading level0 row1\" >1</th>\n",
              "                        <td id=\"T_9d2f7fee_a311_11eb_b0d4_0242ac1c0002row1_col0\" class=\"data row1 col0\" >Toyota Corolla</td>\n",
              "                        <td id=\"T_9d2f7fee_a311_11eb_b0d4_0242ac1c0002row1_col1\" class=\"data row1 col1\" >25000</td>\n",
              "            </tr>\n",
              "            <tr>\n",
              "                        <th id=\"T_9d2f7fee_a311_11eb_b0d4_0242ac1c0002level0_row2\" class=\"row_heading level0 row2\" >2</th>\n",
              "                        <td id=\"T_9d2f7fee_a311_11eb_b0d4_0242ac1c0002row2_col0\" class=\"data row2 col0\" >Ford Focus</td>\n",
              "                        <td id=\"T_9d2f7fee_a311_11eb_b0d4_0242ac1c0002row2_col1\" class=\"data row2 col1\" >27000</td>\n",
              "            </tr>\n",
              "            <tr>\n",
              "                        <th id=\"T_9d2f7fee_a311_11eb_b0d4_0242ac1c0002level0_row3\" class=\"row_heading level0 row3\" >3</th>\n",
              "                        <td id=\"T_9d2f7fee_a311_11eb_b0d4_0242ac1c0002row3_col0\" class=\"data row3 col0\" >Audi A4</td>\n",
              "                        <td id=\"T_9d2f7fee_a311_11eb_b0d4_0242ac1c0002row3_col1\" class=\"data row3 col1\" >35000</td>\n",
              "            </tr>\n",
              "    </tbody></table>"
            ],
            "text/plain": [
              "<pandas.io.formats.style.Styler at 0x7f0168964090>"
            ]
          },
          "metadata": {
            "tags": []
          },
          "execution_count": 5
        }
      ]
    },
    {
      "cell_type": "code",
      "metadata": {
        "id": "p42SXgiRYwk-"
      },
      "source": [
        "def cor_orcamento(val):\n",
        "  if val <= 25000:\n",
        "    color = 'red'\n",
        "  else:\n",
        "    color = 'black'\n",
        "  return 'color: ' + color"
      ],
      "execution_count": 15,
      "outputs": []
    },
    {
      "cell_type": "code",
      "metadata": {
        "colab": {
          "base_uri": "https://localhost:8080/",
          "height": 35
        },
        "id": "2gHjP7bjYaY-",
        "outputId": "668cd7af-53d6-43bf-a69d-dbba23cc823e"
      },
      "source": [
        "cor_orcamento(2)"
      ],
      "execution_count": 16,
      "outputs": [
        {
          "output_type": "execute_result",
          "data": {
            "application/vnd.google.colaboratory.intrinsic+json": {
              "type": "string"
            },
            "text/plain": [
              "'color: red'"
            ]
          },
          "metadata": {
            "tags": []
          },
          "execution_count": 16
        }
      ]
    },
    {
      "cell_type": "markdown",
      "metadata": {
        "id": "j9xrktAHZllc"
      },
      "source": [
        "O apply map aplica o critério escolhid cédula por cédula, diferentemente do set_properties"
      ]
    },
    {
      "cell_type": "code",
      "metadata": {
        "colab": {
          "base_uri": "https://localhost:8080/",
          "height": 124
        },
        "id": "OsYU3fytZKUI",
        "outputId": "baf3bcc0-ff97-45e7-f576-8cc291912ea8"
      },
      "source": [
        "dados.style.applymap(cor_orcamento, subset='Preco')"
      ],
      "execution_count": 17,
      "outputs": [
        {
          "output_type": "execute_result",
          "data": {
            "text/html": [
              "<style  type=\"text/css\" >\n",
              "#T_840d8c30_a312_11eb_b0d4_0242ac1c0002row0_col1,#T_840d8c30_a312_11eb_b0d4_0242ac1c0002row1_col1{\n",
              "            color:  red;\n",
              "        }#T_840d8c30_a312_11eb_b0d4_0242ac1c0002row2_col1,#T_840d8c30_a312_11eb_b0d4_0242ac1c0002row3_col1{\n",
              "            color:  black;\n",
              "        }</style><table id=\"T_840d8c30_a312_11eb_b0d4_0242ac1c0002\" ><thead>    <tr>        <th class=\"blank level0\" ></th>        <th class=\"col_heading level0 col0\" >Marca</th>        <th class=\"col_heading level0 col1\" >Preco</th>    </tr></thead><tbody>\n",
              "                <tr>\n",
              "                        <th id=\"T_840d8c30_a312_11eb_b0d4_0242ac1c0002level0_row0\" class=\"row_heading level0 row0\" >0</th>\n",
              "                        <td id=\"T_840d8c30_a312_11eb_b0d4_0242ac1c0002row0_col0\" class=\"data row0 col0\" >Honda Civic</td>\n",
              "                        <td id=\"T_840d8c30_a312_11eb_b0d4_0242ac1c0002row0_col1\" class=\"data row0 col1\" >22000</td>\n",
              "            </tr>\n",
              "            <tr>\n",
              "                        <th id=\"T_840d8c30_a312_11eb_b0d4_0242ac1c0002level0_row1\" class=\"row_heading level0 row1\" >1</th>\n",
              "                        <td id=\"T_840d8c30_a312_11eb_b0d4_0242ac1c0002row1_col0\" class=\"data row1 col0\" >Toyota Corolla</td>\n",
              "                        <td id=\"T_840d8c30_a312_11eb_b0d4_0242ac1c0002row1_col1\" class=\"data row1 col1\" >25000</td>\n",
              "            </tr>\n",
              "            <tr>\n",
              "                        <th id=\"T_840d8c30_a312_11eb_b0d4_0242ac1c0002level0_row2\" class=\"row_heading level0 row2\" >2</th>\n",
              "                        <td id=\"T_840d8c30_a312_11eb_b0d4_0242ac1c0002row2_col0\" class=\"data row2 col0\" >Ford Focus</td>\n",
              "                        <td id=\"T_840d8c30_a312_11eb_b0d4_0242ac1c0002row2_col1\" class=\"data row2 col1\" >27000</td>\n",
              "            </tr>\n",
              "            <tr>\n",
              "                        <th id=\"T_840d8c30_a312_11eb_b0d4_0242ac1c0002level0_row3\" class=\"row_heading level0 row3\" >3</th>\n",
              "                        <td id=\"T_840d8c30_a312_11eb_b0d4_0242ac1c0002row3_col0\" class=\"data row3 col0\" >Audi A4</td>\n",
              "                        <td id=\"T_840d8c30_a312_11eb_b0d4_0242ac1c0002row3_col1\" class=\"data row3 col1\" >35000</td>\n",
              "            </tr>\n",
              "    </tbody></table>"
            ],
            "text/plain": [
              "<pandas.io.formats.style.Styler at 0x7f016868f890>"
            ]
          },
          "metadata": {
            "tags": []
          },
          "execution_count": 17
        }
      ]
    },
    {
      "cell_type": "code",
      "metadata": {
        "id": "xLEOTtRZaS5F"
      },
      "source": [
        "dados.style.applymap(cor_orcamento, subset='Preco').to_excel('Dataframe_estilizado.xlsx', engine='openpyxl')"
      ],
      "execution_count": 20,
      "outputs": []
    }
  ]
}